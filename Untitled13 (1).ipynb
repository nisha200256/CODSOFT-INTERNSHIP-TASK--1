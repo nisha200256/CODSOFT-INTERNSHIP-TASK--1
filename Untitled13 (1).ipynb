{
 "cells": [
  {
   "cell_type": "code",
   "execution_count": 1,
   "id": "4a8183f2-ca98-41cc-8eb2-6a29c95451cf",
   "metadata": {},
   "outputs": [],
   "source": [
    "import json\n",
    "import os\n"
   ]
  },
  {
   "cell_type": "code",
   "execution_count": 2,
   "id": "f7274f07-bc09-428d-9a3a-d56ca787d64c",
   "metadata": {},
   "outputs": [],
   "source": [
    "FILE_NAME = \"tasks.json\"\n",
    "\n",
    "# Load tasks from file\n",
    "def load_tasks():\n",
    "    if os.path.exists(FILE_NAME):\n",
    "        with open(FILE_NAME, \"r\") as file:\n",
    "            return json.load(file)\n",
    "    return []\n"
   ]
  },
  {
   "cell_type": "code",
   "execution_count": 3,
   "id": "c8a0beac-d377-47d3-b3ed-c7d979de5404",
   "metadata": {},
   "outputs": [],
   "source": [
    "# Save tasks to file\n",
    "def save_tasks(tasks):\n",
    "    with open(FILE_NAME, \"w\") as file:\n",
    "        json.dump(tasks, file, indent=4)\n"
   ]
  },
  {
   "cell_type": "code",
   "execution_count": 4,
   "id": "01ec85c7-7835-4839-a61c-c6cdc3525fdb",
   "metadata": {},
   "outputs": [],
   "source": [
    "# Display tasks\n",
    "def view_tasks(tasks):\n",
    "    if not tasks:\n",
    "        print(\"No tasks found.\")\n",
    "    else:\n",
    "        for i, task in enumerate(tasks, start=1):\n",
    "            status = \"✔\" if task[\"completed\"] else \"✘\"\n",
    "            print(f\"{i}. {task['title']} [{status}]\")\n"
   ]
  },
  {
   "cell_type": "code",
   "execution_count": null,
   "id": "8cc51abd-b909-4fd7-b36b-2d9715cd54dc",
   "metadata": {},
   "outputs": [
    {
     "name": "stdout",
     "output_type": "stream",
     "text": [
      "\n",
      "--- To-Do List ---\n",
      "1. View Tasks\n",
      "2. Add Task\n",
      "3. Mark Task as Completed\n",
      "4. Delete Task\n",
      "5. Exit\n"
     ]
    },
    {
     "name": "stdin",
     "output_type": "stream",
     "text": [
      "Choose an option:  1\n"
     ]
    },
    {
     "name": "stdout",
     "output_type": "stream",
     "text": [
      "1. 1 [✔]\n",
      "2. 3 [✘]\n",
      "\n",
      "--- To-Do List ---\n",
      "1. View Tasks\n",
      "2. Add Task\n",
      "3. Mark Task as Completed\n",
      "4. Delete Task\n",
      "5. Exit\n"
     ]
    },
    {
     "name": "stdin",
     "output_type": "stream",
     "text": [
      "Choose an option:  3\n"
     ]
    },
    {
     "name": "stdout",
     "output_type": "stream",
     "text": [
      "1. 1 [✔]\n",
      "2. 3 [✘]\n"
     ]
    },
    {
     "name": "stdin",
     "output_type": "stream",
     "text": [
      "Enter task number to mark complete:  1\n"
     ]
    },
    {
     "name": "stdout",
     "output_type": "stream",
     "text": [
      "\n",
      "--- To-Do List ---\n",
      "1. View Tasks\n",
      "2. Add Task\n",
      "3. Mark Task as Completed\n",
      "4. Delete Task\n",
      "5. Exit\n"
     ]
    }
   ],
   "source": [
    "# Main program loop\n",
    "def main():\n",
    "    tasks = load_tasks()\n",
    "\n",
    "    while True:\n",
    "        print(\"\\n--- To-Do List ---\")\n",
    "        print(\"1. View Tasks\")\n",
    "        print(\"2. Add Task\")\n",
    "        print(\"3. Mark Task as Completed\")\n",
    "        print(\"4. Delete Task\")\n",
    "        print(\"5. Exit\")\n",
    "\n",
    "        choice = input(\"Choose an option: \")\n",
    "\n",
    "        if choice == \"1\":\n",
    "            view_tasks(tasks)\n",
    "        elif choice == \"2\":\n",
    "            title = input(\"Enter task: \")\n",
    "            tasks.append({\"title\": title, \"completed\": False})\n",
    "            save_tasks(tasks)\n",
    "        elif choice == \"3\":\n",
    "            view_tasks(tasks)\n",
    "            task_num = int(input(\"Enter task number to mark complete: \")) - 1\n",
    "            if 0 <= task_num < len(tasks):\n",
    "                tasks[task_num][\"completed\"] = True\n",
    "                save_tasks(tasks)\n",
    "        elif choice == \"4\":\n",
    "            view_tasks(tasks)\n",
    "            task_num = int(input(\"Enter task number to delete: \")) - 1\n",
    "            if 0 <= task_num < len(tasks):\n",
    "                tasks.pop(task_num)\n",
    "                save_tasks(tasks)\n",
    "        elif choice == \"5\":\n",
    "            break\n",
    "        else:\n",
    "            print(\"Invalid choice. Try again.\")\n",
    "\n",
    "if __name__ == \"__main__\":\n",
    "    main()\n"
   ]
  },
  {
   "cell_type": "code",
   "execution_count": null,
   "id": "f6e11d81-d167-4fc2-b8ba-e84e77803ad0",
   "metadata": {},
   "outputs": [],
   "source": []
  }
 ],
 "metadata": {
  "kernelspec": {
   "display_name": "Python 3 (ipykernel)",
   "language": "python",
   "name": "python3"
  },
  "language_info": {
   "codemirror_mode": {
    "name": "ipython",
    "version": 3
   },
   "file_extension": ".py",
   "mimetype": "text/x-python",
   "name": "python",
   "nbconvert_exporter": "python",
   "pygments_lexer": "ipython3",
   "version": "3.12.7"
  }
 },
 "nbformat": 4,
 "nbformat_minor": 5
}
